{
 "cells": [
  {
   "cell_type": "markdown",
   "metadata": {
    "application/vnd.databricks.v1+cell": {
     "cellMetadata": {},
     "inputWidgets": {},
     "nuid": "fcea42b0-f586-4132-8d0d-8cdf8de53630",
     "showTitle": false,
     "tableResultSettingsMap": {},
     "title": ""
    }
   },
   "source": [
    "#- Target Data "
   ]
  },
  {
   "cell_type": "code",
   "execution_count": 0,
   "metadata": {
    "application/vnd.databricks.v1+cell": {
     "cellMetadata": {
      "byteLimit": 2048000,
      "rowLimit": 10000
     },
     "inputWidgets": {},
     "nuid": "afa5b1a0-f913-4bc8-af0f-5c356d05e829",
     "showTitle": true,
     "tableResultSettingsMap": {},
     "title": "SCD_2"
    }
   },
   "outputs": [
    {
     "output_type": "stream",
     "name": "stdout",
     "output_type": "stream",
     "text": [
      "+-----------+-------+--------+-----------------+----------+----------+--------+\n|customer_id|   name|    city|            email|is_current|start_date|end_date|\n+-----------+-------+--------+-----------------+----------+----------+--------+\n|          1|  Alice|New York|  alice@email.com|         Y|2024-01-01|    None|\n|          2|    Bob| Chicago|    bob@email.com|         Y|2024-01-01|    None|\n|          3|Charlie| Houston|charlie@email.com|         Y|2024-01-01|    None|\n+-----------+-------+--------+-----------------+----------+----------+--------+\n\n"
     ]
    },
    {
     "output_type": "execute_result",
     "data": {
      "text/plain": [
       "3"
      ]
     },
     "execution_count": 11,
     "metadata": {},
     "output_type": "execute_result"
    }
   ],
   "source": [
    "from pyspark.sql import SparkSession\n",
    "from pyspark.sql.functions import col, lit, current_date\n",
    "\n",
    "spark = SparkSession.builder.appName(\"SCD2 Example\").getOrCreate()\n",
    "\n",
    "# Existing target table (historical data)\n",
    "target_data = [\n",
    "    (1, \"Alice\", \"New York\", \"alice@email.com\", \"Y\", \"2024-01-01\", 'None'),\n",
    "    (2, \"Bob\", \"Chicago\", \"bob@email.com\", \"Y\", \"2024-01-01\", 'None'),\n",
    "    (3, \"Charlie\", \"Houston\", \"charlie@email.com\", \"Y\", \"2024-01-01\", 'None')\n",
    "]\n",
    "\n",
    "target_columns = [\"customer_id\", \"name\", \"city\", \"email\", \"is_current\", \"start_date\", \"end_date\"]\n",
    "\n",
    "target_df = spark.createDataFrame(target_data, target_columns)\n",
    "target_df.show()\n",
    "target_df.count()"
   ]
  },
  {
   "cell_type": "markdown",
   "metadata": {
    "application/vnd.databricks.v1+cell": {
     "cellMetadata": {},
     "inputWidgets": {},
     "nuid": "8e469b01-833c-4836-a22a-31b598f2e601",
     "showTitle": false,
     "tableResultSettingsMap": {},
     "title": ""
    }
   },
   "source": [
    "# source --Incoming data"
   ]
  },
  {
   "cell_type": "code",
   "execution_count": 0,
   "metadata": {
    "application/vnd.databricks.v1+cell": {
     "cellMetadata": {
      "byteLimit": 2048000,
      "rowLimit": 10000
     },
     "inputWidgets": {},
     "nuid": "1fa3f34b-8c22-4b74-bed2-e770711af752",
     "showTitle": false,
     "tableResultSettingsMap": {},
     "title": ""
    }
   },
   "outputs": [
    {
     "output_type": "stream",
     "name": "stdout",
     "output_type": "stream",
     "text": [
      "+-----------+-------+-------+-----------------+\n|customer_id|   name|   city|            email|\n+-----------+-------+-------+-----------------+\n|          1|  Alice| Boston|  alice@email.com|\n|          2|    Bob|Chicago|bob_new@email.com|\n|          3|Charlie|Houston|charlie@email.com|\n|          4|  David|  Miami|  david@email.com|\n+-----------+-------+-------+-----------------+\n\n"
     ]
    }
   ],
   "source": [
    "source_data = [\n",
    "    (1, \"Alice\", \"Boston\", \"alice@email.com\"),     # City changed\n",
    "    (2, \"Bob\", \"Chicago\", \"bob_new@email.com\"),    # Email changed\n",
    "    (3, \"Charlie\", \"Houston\", \"charlie@email.com\"),# No change\n",
    "    (4, \"David\", \"Miami\", \"david@email.com\")       # New record\n",
    "]\n",
    "\n",
    "source_columns = [\"customer_id\", \"name\", \"city\", \"email\"]\n",
    "\n",
    "source_df = spark.createDataFrame(source_data, source_columns)\n",
    "source_df.show()"
   ]
  },
  {
   "cell_type": "markdown",
   "metadata": {
    "application/vnd.databricks.v1+cell": {
     "cellMetadata": {},
     "inputWidgets": {},
     "nuid": "fc4501d3-0f00-4ee2-a46b-e6ec6260b6c6",
     "showTitle": false,
     "tableResultSettingsMap": {},
     "title": ""
    }
   },
   "source": [
    "# SAVE THE TARGET DATA INTO DELTA TABLE"
   ]
  },
  {
   "cell_type": "code",
   "execution_count": 0,
   "metadata": {
    "application/vnd.databricks.v1+cell": {
     "cellMetadata": {
      "byteLimit": 2048000,
      "rowLimit": 10000
     },
     "inputWidgets": {},
     "nuid": "c1659bc2-a12b-45be-aed5-6788963afc44",
     "showTitle": false,
     "tableResultSettingsMap": {},
     "title": ""
    }
   },
   "outputs": [
    {
     "output_type": "stream",
     "name": "stdout",
     "output_type": "stream",
     "text": [
      "+-----------+-------+--------+-----------------+----------+----------+--------+\n|customer_id|   name|    city|            email|is_current|start_date|end_date|\n+-----------+-------+--------+-----------------+----------+----------+--------+\n|          1|  Alice|New York|  alice@email.com|         Y|2024-01-01|    None|\n|          2|    Bob| Chicago|    bob@email.com|         Y|2024-01-01|    None|\n|          3|Charlie| Houston|charlie@email.com|         Y|2024-01-01|    None|\n+-----------+-------+--------+-----------------+----------+----------+--------+\n\n"
     ]
    }
   ],
   "source": [
    "target_df.write.format('delta').mode('overwrite').save('/Volumes/workspace/raw_schema/raw_volume/target_table')\n",
    "target_df.show()"
   ]
  },
  {
   "cell_type": "markdown",
   "metadata": {
    "application/vnd.databricks.v1+cell": {
     "cellMetadata": {},
     "inputWidgets": {},
     "nuid": "6fba5365-406c-48e0-9eb0-7784925621af",
     "showTitle": false,
     "tableResultSettingsMap": {},
     "title": ""
    }
   },
   "source": [
    "# SCD_2 LOGIC"
   ]
  },
  {
   "cell_type": "code",
   "execution_count": 0,
   "metadata": {
    "application/vnd.databricks.v1+cell": {
     "cellMetadata": {
      "byteLimit": 2048000,
      "rowLimit": 10000
     },
     "inputWidgets": {},
     "nuid": "4c120b79-9545-4248-954f-5369a69f7af6",
     "showTitle": false,
     "tableResultSettingsMap": {},
     "title": ""
    }
   },
   "outputs": [
    {
     "output_type": "execute_result",
     "data": {
      "text/plain": [
       "DataFrame[num_affected_rows: bigint, num_updated_rows: bigint, num_deleted_rows: bigint, num_inserted_rows: bigint]"
      ]
     },
     "execution_count": 18,
     "metadata": {},
     "output_type": "execute_result"
    }
   ],
   "source": [
    "from delta.tables import DeltaTable\n",
    "from pyspark.sql.functions import *\n",
    "\n",
    "delta_target = DeltaTable.forPath(spark, '/Volumes/workspace/raw_schema/raw_volume/target_table')\n",
    "\n",
    "\n",
    "delta_target.alias('target').merge(source_df.alias('source'), 'target.customer_id=source.customer_id and target.is_current=\"Y\"').whenMatchedUpdate(\n",
    "    condition='target.name<>source.name or target.city<>source.city or target.email<> source.email',\n",
    "    set={\n",
    "        'end_date': current_date(),\n",
    "        'is_current': lit('N')\n",
    "    \n",
    "    }\n",
    ").whenNotMatchedInsert(\n",
    "    values={\n",
    "        'customer_id': 'source.customer_id',\n",
    "        'name': 'source.name',\n",
    "        'city': 'source.city',\n",
    "        'email': 'source.email',\n",
    "        'is_current': lit('Y'),\n",
    "        'start_date': current_date(),\n",
    "        'end_date': lit('None')\n",
    "    }\n",
    ").execute()"
   ]
  },
  {
   "cell_type": "markdown",
   "metadata": {
    "application/vnd.databricks.v1+cell": {
     "cellMetadata": {},
     "inputWidgets": {},
     "nuid": "92dd905d-0e3c-40f3-9524-6c75d5954ff9",
     "showTitle": false,
     "tableResultSettingsMap": {},
     "title": ""
    }
   },
   "source": [
    "# CHECK THE RESULT...."
   ]
  },
  {
   "cell_type": "code",
   "execution_count": 0,
   "metadata": {
    "application/vnd.databricks.v1+cell": {
     "cellMetadata": {
      "byteLimit": 2048000,
      "rowLimit": 10000
     },
     "inputWidgets": {},
     "nuid": "ac40cecf-b7d4-442f-b4d8-bf642499bb5f",
     "showTitle": false,
     "tableResultSettingsMap": {},
     "title": ""
    }
   },
   "outputs": [
    {
     "output_type": "stream",
     "name": "stdout",
     "output_type": "stream",
     "text": [
      "+-----------+-------+--------+-----------------+----------+----------+----------+\n|customer_id|   name|    city|            email|is_current|start_date|  end_date|\n+-----------+-------+--------+-----------------+----------+----------+----------+\n|          3|Charlie| Houston|charlie@email.com|         Y|2024-01-01|      None|\n|          1|  Alice|New York|  alice@email.com|         N|2024-01-01|2025-10-27|\n|          2|    Bob| Chicago|    bob@email.com|         N|2024-01-01|2025-10-27|\n|          4|  David|   Miami|  david@email.com|         Y|2025-10-27|      None|\n|          2|    Bob| Chicago|bob_new@email.com|         Y|2025-10-27|      None|\n|          1|  Alice|  Boston|  alice@email.com|         Y|2025-10-27|      None|\n+-----------+-------+--------+-----------------+----------+----------+----------+\n\n"
     ]
    }
   ],
   "source": [
    "target_df = spark.read.format('delta').load('/Volumes/workspace/raw_schema/raw_volume/target_table')\n",
    "target_df.show()"
   ]
  }
 ],
 "metadata": {
  "application/vnd.databricks.v1+notebook": {
   "computePreferences": null,
   "dashboards": [],
   "environmentMetadata": {
    "base_environment": "",
    "environment_version": "4"
   },
   "inputWidgetPreferences": null,
   "language": "python",
   "notebookMetadata": {
    "pythonIndentUnit": 4
   },
   "notebookName": "SCD_2",
   "widgets": {}
  },
  "language_info": {
   "name": "python"
  }
 },
 "nbformat": 4,
 "nbformat_minor": 0
}